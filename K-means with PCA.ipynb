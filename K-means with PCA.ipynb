{
 "cells": [
  {
   "cell_type": "markdown",
   "id": "83363867",
   "metadata": {},
   "source": [
    "## Imports"
   ]
  },
  {
   "cell_type": "code",
   "execution_count": 25,
   "id": "83628b37",
   "metadata": {},
   "outputs": [],
   "source": [
    "import numpy as np\n",
    "import pandas as pd\n",
    "\n",
    "import matplotlib.pyplot as plt\n",
    "import seaborn as sns\n",
    "\n",
    "from sklearn.preprocessing import StandardScaler\n",
    "\n",
    "from sklearn.decomposition import PCA\n",
    "from sklearn.cluster import KMeans"
   ]
  },
  {
   "cell_type": "code",
   "execution_count": 3,
   "id": "36399654",
   "metadata": {},
   "outputs": [],
   "source": [
    "# I skip the exploring part "
   ]
  },
  {
   "cell_type": "code",
   "execution_count": 4,
   "id": "b7521760",
   "metadata": {},
   "outputs": [],
   "source": [
    "data = pd.read_csv('segmentation data.csv', index_col=0)"
   ]
  },
  {
   "cell_type": "markdown",
   "id": "838ec48f",
   "metadata": {},
   "source": [
    "## Standardization"
   ]
  },
  {
   "cell_type": "code",
   "execution_count": 5,
   "id": "e3e9e958",
   "metadata": {},
   "outputs": [],
   "source": [
    "scaler = StandardScaler()"
   ]
  },
  {
   "cell_type": "code",
   "execution_count": 6,
   "id": "5621d34e",
   "metadata": {},
   "outputs": [],
   "source": [
    "data_std = scaler.fit_transform(data)"
   ]
  },
  {
   "cell_type": "markdown",
   "id": "5a032950",
   "metadata": {},
   "source": [
    "## PCA"
   ]
  },
  {
   "cell_type": "code",
   "execution_count": 9,
   "id": "53412a1a",
   "metadata": {},
   "outputs": [],
   "source": [
    "pca = PCA()"
   ]
  },
  {
   "cell_type": "code",
   "execution_count": 10,
   "id": "0de8d2ff",
   "metadata": {},
   "outputs": [
    {
     "data": {
      "text/plain": [
       "PCA()"
      ]
     },
     "execution_count": 10,
     "metadata": {},
     "output_type": "execute_result"
    }
   ],
   "source": [
    "pca.fit(data_std)"
   ]
  },
  {
   "cell_type": "code",
   "execution_count": 12,
   "id": "4ba2af16",
   "metadata": {},
   "outputs": [
    {
     "data": {
      "text/plain": [
       "array([0.35696328, 0.26250923, 0.18821114, 0.0755775 , 0.05716512,\n",
       "       0.03954794, 0.02002579])"
      ]
     },
     "execution_count": 12,
     "metadata": {},
     "output_type": "execute_result"
    }
   ],
   "source": [
    "pca.explained_variance_ratio_"
   ]
  },
  {
   "cell_type": "code",
   "execution_count": 13,
   "id": "aeb25431",
   "metadata": {},
   "outputs": [
    {
     "data": {
      "image/png": "[encoded data removed]",
      "text/plain": [
       "<Figure size 864x648 with 1 Axes>"
      ]
     },
     "metadata": {
      "needs_background": "light"
     },
     "output_type": "display_data"
    }
   ],
   "source": [
    "plt.figure(figsize=(12,9))\n",
    "\n",
    "plt.plot(range(1,8), pca.explained_variance_ratio_.cumsum(), marker='o', linestyle='--')\n",
    "\n",
    "plt.title('Explained Variance by Components')\n",
    "plt.xlabel('Number of components')\n",
    "plt.ylabel('Cumulative Explained Variance')\n",
    "plt.show()"
   ]
  },
  {
   "cell_type": "markdown",
   "id": "9f48ba16",
   "metadata": {},
   "source": [
    "How can we choose number of components?"
   ]
  },
  {
   "cell_type": "markdown",
   "id": "39d3206b",
   "metadata": {},
   "source": [
    "All components variance ratio are up to 100 % percent(1)\n"
   ]
  },
  {
   "cell_type": "markdown",
   "id": "ec26a502",
   "metadata": {},
   "source": [
    "We can keep at least 80%, in this example 3 seems quite useful."
   ]
  },
  {
   "cell_type": "code",
   "execution_count": null,
   "id": "f9a12ce7",
   "metadata": {},
   "outputs": [],
   "source": []
  },
  {
   "cell_type": "code",
   "execution_count": 14,
   "id": "c4753480",
   "metadata": {},
   "outputs": [],
   "source": [
    "pca = PCA(n_components=3)"
   ]
  },
  {
   "cell_type": "code",
   "execution_count": 15,
   "id": "d140c620",
   "metadata": {},
   "outputs": [
    {
     "data": {
      "text/plain": [
       "PCA(n_components=3)"
      ]
     },
     "execution_count": 15,
     "metadata": {},
     "output_type": "execute_result"
    }
   ],
   "source": [
    "pca.fit(data_std)"
   ]
  },
  {
   "cell_type": "code",
   "execution_count": 16,
   "id": "9c7ce5ed",
   "metadata": {},
   "outputs": [
    {
     "data": {
      "text/plain": [
       "array([0.35696328, 0.26250923, 0.18821114])"
      ]
     },
     "execution_count": 16,
     "metadata": {},
     "output_type": "execute_result"
    }
   ],
   "source": [
    "pca.explained_variance_ratio_"
   ]
  },
  {
   "cell_type": "code",
   "execution_count": 17,
   "id": "47edc1ea",
   "metadata": {},
   "outputs": [],
   "source": [
    "df_pca_comp = pd.DataFrame(data=pca.components_,\n",
    "                          columns=data.columns.values,\n",
    "                          index = ['Component 1', 'Component 2', 'Component 3'])"
   ]
  },
  {
   "cell_type": "code",
   "execution_count": 18,
   "id": "e57b3744",
   "metadata": {},
   "outputs": [
    {
     "data": {
      "text/html": [
       "<div>\n",
       "<style scoped>\n",
       "    .dataframe tbody tr th:only-of-type {\n",
       "        vertical-align: middle;\n",
       "    }\n",
       "\n",
       "    .dataframe tbody tr th {\n",
       "        vertical-align: top;\n",
       "    }\n",
       "\n",
       "    .dataframe thead th {\n",
       "        text-align: right;\n",
       "    }\n",
       "</style>\n",
       "<table border=\"1\" class=\"dataframe\">\n",
       "  <thead>\n",
       "    <tr style=\"text-align: right;\">\n",
       "      <th></th>\n",
       "      <th>Sex</th>\n",
       "      <th>Marital status</th>\n",
       "      <th>Age</th>\n",
       "      <th>Education</th>\n",
       "      <th>Income</th>\n",
       "      <th>Occupation</th>\n",
       "      <th>Settlement size</th>\n",
       "    </tr>\n",
       "  </thead>\n",
       "  <tbody>\n",
       "    <tr>\n",
       "      <th>Component 1</th>\n",
       "      <td>-0.314695</td>\n",
       "      <td>-0.191704</td>\n",
       "      <td>0.326100</td>\n",
       "      <td>0.156841</td>\n",
       "      <td>0.524525</td>\n",
       "      <td>0.492059</td>\n",
       "      <td>0.464789</td>\n",
       "    </tr>\n",
       "    <tr>\n",
       "      <th>Component 2</th>\n",
       "      <td>0.458006</td>\n",
       "      <td>0.512635</td>\n",
       "      <td>0.312208</td>\n",
       "      <td>0.639807</td>\n",
       "      <td>0.124683</td>\n",
       "      <td>0.014658</td>\n",
       "      <td>-0.069632</td>\n",
       "    </tr>\n",
       "    <tr>\n",
       "      <th>Component 3</th>\n",
       "      <td>-0.293013</td>\n",
       "      <td>-0.441977</td>\n",
       "      <td>0.609544</td>\n",
       "      <td>0.275605</td>\n",
       "      <td>-0.165662</td>\n",
       "      <td>-0.395505</td>\n",
       "      <td>-0.295685</td>\n",
       "    </tr>\n",
       "  </tbody>\n",
       "</table>\n",
       "</div>"
      ],
      "text/plain": [
       "                  Sex  Marital status       Age  Education    Income  \\\n",
       "Component 1 -0.314695       -0.191704  0.326100   0.156841  0.524525   \n",
       "Component 2  0.458006        0.512635  0.312208   0.639807  0.124683   \n",
       "Component 3 -0.293013       -0.441977  0.609544   0.275605 -0.165662   \n",
       "\n",
       "             Occupation  Settlement size  \n",
       "Component 1    0.492059         0.464789  \n",
       "Component 2    0.014658        -0.069632  \n",
       "Component 3   -0.395505        -0.295685  "
      ]
     },
     "execution_count": 18,
     "metadata": {},
     "output_type": "execute_result"
    }
   ],
   "source": [
    "df_pca_comp"
   ]
  },
  {
   "cell_type": "code",
   "execution_count": 19,
   "id": "0a41d835",
   "metadata": {},
   "outputs": [],
   "source": [
    "# let's visualize dataframe to see connection between components"
   ]
  },
  {
   "cell_type": "code",
   "execution_count": 20,
   "id": "1a2a87b0",
   "metadata": {},
   "outputs": [
    {
     "data": {
      "text/plain": [
       "([<matplotlib.axis.YTick at 0x1dcc6fa3040>,\n",
       "  <matplotlib.axis.YTick at 0x1dcc6f9b9a0>,\n",
       "  <matplotlib.axis.YTick at 0x1dcc7009dc0>],\n",
       " [Text(0, 0, 'Component 1'),\n",
       "  Text(0, 1, 'Component 2'),\n",
       "  Text(0, 2, 'Component 3')])"
      ]
     },
     "execution_count": 20,
     "metadata": {},
     "output_type": "execute_result"
    },
    {
     "data": {
      "image/png": "[encoded data removed]",
      "text/plain": [
       "<Figure size 432x288 with 2 Axes>"
      ]
     },
     "metadata": {
      "needs_background": "light"
     },
     "output_type": "display_data"
    }
   ],
   "source": [
    "sns.heatmap(df_pca_comp,\n",
    "           annot=True, vmin=-1, vmax=1, cmap='RdBu')\n",
    "\n",
    "plt.yticks([0,1,2],\n",
    "          ['Component 1', 'Component 2', 'Component 3'])"
   ]
  },
  {
   "cell_type": "code",
   "execution_count": null,
   "id": "e26eb110",
   "metadata": {},
   "outputs": [],
   "source": []
  },
  {
   "cell_type": "code",
   "execution_count": 22,
   "id": "e4b5cf2f",
   "metadata": {},
   "outputs": [],
   "source": [
    "scores_pca = pca.transform(data_std)"
   ]
  },
  {
   "cell_type": "markdown",
   "id": "e9fd3030",
   "metadata": {},
   "source": [
    "## K-means with PCA"
   ]
  },
  {
   "cell_type": "code",
   "execution_count": 26,
   "id": "5a6e5e08",
   "metadata": {},
   "outputs": [
    {
     "data": {
      "text/plain": [
       "KMeans(n_clusters=4, random_state=42)"
      ]
     },
     "execution_count": 26,
     "metadata": {},
     "output_type": "execute_result"
    }
   ],
   "source": [
    "kmeans_pca = KMeans(n_clusters=4, init='k-means++', random_state=42)\n",
    "kmeans_pca.fit(scores_pca)"
   ]
  },
  {
   "cell_type": "code",
   "execution_count": 27,
   "id": "a085502f",
   "metadata": {},
   "outputs": [],
   "source": [
    "data_segm_pca_kmeans = pd.concat([data.reset_index(drop=True), pd.DataFrame(scores_pca)], axis=1)\n",
    "data_segm_pca_kmeans.columns.values[-3:] = ['Component 1', 'Component 2', 'Component 3']\n",
    "data_segm_pca_kmeans['Segment K-means PCA'] = kmeans_pca.labels_"
   ]
  },
  {
   "cell_type": "code",
   "execution_count": 28,
   "id": "e96983ab",
   "metadata": {},
   "outputs": [
    {
     "data": {
      "text/html": [
       "<div>\n",
       "<style scoped>\n",
       "    .dataframe tbody tr th:only-of-type {\n",
       "        vertical-align: middle;\n",
       "    }\n",
       "\n",
       "    .dataframe tbody tr th {\n",
       "        vertical-align: top;\n",
       "    }\n",
       "\n",
       "    .dataframe thead th {\n",
       "        text-align: right;\n",
       "    }\n",
       "</style>\n",
       "<table border=\"1\" class=\"dataframe\">\n",
       "  <thead>\n",
       "    <tr style=\"text-align: right;\">\n",
       "      <th></th>\n",
       "      <th>Sex</th>\n",
       "      <th>Marital status</th>\n",
       "      <th>Age</th>\n",
       "      <th>Education</th>\n",
       "      <th>Income</th>\n",
       "      <th>Occupation</th>\n",
       "      <th>Settlement size</th>\n",
       "      <th>Component 1</th>\n",
       "      <th>Component 2</th>\n",
       "      <th>Component 3</th>\n",
       "      <th>Segment K-means PCA</th>\n",
       "    </tr>\n",
       "  </thead>\n",
       "  <tbody>\n",
       "    <tr>\n",
       "      <th>0</th>\n",
       "      <td>0</td>\n",
       "      <td>0</td>\n",
       "      <td>67</td>\n",
       "      <td>2</td>\n",
       "      <td>124670</td>\n",
       "      <td>1</td>\n",
       "      <td>2</td>\n",
       "      <td>2.514746</td>\n",
       "      <td>0.834122</td>\n",
       "      <td>2.174806</td>\n",
       "      <td>3</td>\n",
       "    </tr>\n",
       "    <tr>\n",
       "      <th>1</th>\n",
       "      <td>1</td>\n",
       "      <td>1</td>\n",
       "      <td>22</td>\n",
       "      <td>1</td>\n",
       "      <td>150773</td>\n",
       "      <td>1</td>\n",
       "      <td>2</td>\n",
       "      <td>0.344935</td>\n",
       "      <td>0.598146</td>\n",
       "      <td>-2.211603</td>\n",
       "      <td>0</td>\n",
       "    </tr>\n",
       "    <tr>\n",
       "      <th>2</th>\n",
       "      <td>0</td>\n",
       "      <td>0</td>\n",
       "      <td>49</td>\n",
       "      <td>1</td>\n",
       "      <td>89210</td>\n",
       "      <td>0</td>\n",
       "      <td>0</td>\n",
       "      <td>-0.651063</td>\n",
       "      <td>-0.680093</td>\n",
       "      <td>2.280419</td>\n",
       "      <td>2</td>\n",
       "    </tr>\n",
       "    <tr>\n",
       "      <th>3</th>\n",
       "      <td>0</td>\n",
       "      <td>0</td>\n",
       "      <td>45</td>\n",
       "      <td>1</td>\n",
       "      <td>171565</td>\n",
       "      <td>1</td>\n",
       "      <td>1</td>\n",
       "      <td>1.714316</td>\n",
       "      <td>-0.579927</td>\n",
       "      <td>0.730731</td>\n",
       "      <td>1</td>\n",
       "    </tr>\n",
       "    <tr>\n",
       "      <th>4</th>\n",
       "      <td>0</td>\n",
       "      <td>0</td>\n",
       "      <td>53</td>\n",
       "      <td>1</td>\n",
       "      <td>149031</td>\n",
       "      <td>1</td>\n",
       "      <td>1</td>\n",
       "      <td>1.626745</td>\n",
       "      <td>-0.440496</td>\n",
       "      <td>1.244909</td>\n",
       "      <td>1</td>\n",
       "    </tr>\n",
       "  </tbody>\n",
       "</table>\n",
       "</div>"
      ],
      "text/plain": [
       "   Sex  Marital status  Age  Education  Income  Occupation  Settlement size  \\\n",
       "0    0               0   67          2  124670           1                2   \n",
       "1    1               1   22          1  150773           1                2   \n",
       "2    0               0   49          1   89210           0                0   \n",
       "3    0               0   45          1  171565           1                1   \n",
       "4    0               0   53          1  149031           1                1   \n",
       "\n",
       "   Component 1  Component 2  Component 3  Segment K-means PCA  \n",
       "0     2.514746     0.834122     2.174806                    3  \n",
       "1     0.344935     0.598146    -2.211603                    0  \n",
       "2    -0.651063    -0.680093     2.280419                    2  \n",
       "3     1.714316    -0.579927     0.730731                    1  \n",
       "4     1.626745    -0.440496     1.244909                    1  "
      ]
     },
     "execution_count": 28,
     "metadata": {},
     "output_type": "execute_result"
    }
   ],
   "source": [
    "data_segm_pca_kmeans.head()"
   ]
  },
  {
   "cell_type": "code",
   "execution_count": 29,
   "id": "2f064405",
   "metadata": {},
   "outputs": [
    {
     "data": {
      "text/html": [
       "<div>\n",
       "<style scoped>\n",
       "    .dataframe tbody tr th:only-of-type {\n",
       "        vertical-align: middle;\n",
       "    }\n",
       "\n",
       "    .dataframe tbody tr th {\n",
       "        vertical-align: top;\n",
       "    }\n",
       "\n",
       "    .dataframe thead th {\n",
       "        text-align: right;\n",
       "    }\n",
       "</style>\n",
       "<table border=\"1\" class=\"dataframe\">\n",
       "  <thead>\n",
       "    <tr style=\"text-align: right;\">\n",
       "      <th></th>\n",
       "      <th>Sex</th>\n",
       "      <th>Marital status</th>\n",
       "      <th>Age</th>\n",
       "      <th>Education</th>\n",
       "      <th>Income</th>\n",
       "      <th>Occupation</th>\n",
       "      <th>Settlement size</th>\n",
       "      <th>Component 1</th>\n",
       "      <th>Component 2</th>\n",
       "      <th>Component 3</th>\n",
       "    </tr>\n",
       "    <tr>\n",
       "      <th>Segment K-means PCA</th>\n",
       "      <th></th>\n",
       "      <th></th>\n",
       "      <th></th>\n",
       "      <th></th>\n",
       "      <th></th>\n",
       "      <th></th>\n",
       "      <th></th>\n",
       "      <th></th>\n",
       "      <th></th>\n",
       "      <th></th>\n",
       "    </tr>\n",
       "  </thead>\n",
       "  <tbody>\n",
       "    <tr>\n",
       "      <th>0</th>\n",
       "      <td>0.900289</td>\n",
       "      <td>0.965318</td>\n",
       "      <td>28.878613</td>\n",
       "      <td>1.060694</td>\n",
       "      <td>107551.500000</td>\n",
       "      <td>0.677746</td>\n",
       "      <td>0.440751</td>\n",
       "      <td>-1.107019</td>\n",
       "      <td>0.703776</td>\n",
       "      <td>-0.781410</td>\n",
       "    </tr>\n",
       "    <tr>\n",
       "      <th>1</th>\n",
       "      <td>0.027444</td>\n",
       "      <td>0.168096</td>\n",
       "      <td>35.737564</td>\n",
       "      <td>0.734134</td>\n",
       "      <td>141525.826758</td>\n",
       "      <td>1.267581</td>\n",
       "      <td>1.480274</td>\n",
       "      <td>1.372663</td>\n",
       "      <td>-1.046172</td>\n",
       "      <td>-0.248046</td>\n",
       "    </tr>\n",
       "    <tr>\n",
       "      <th>2</th>\n",
       "      <td>0.306522</td>\n",
       "      <td>0.095652</td>\n",
       "      <td>35.313043</td>\n",
       "      <td>0.760870</td>\n",
       "      <td>93692.567391</td>\n",
       "      <td>0.252174</td>\n",
       "      <td>0.039130</td>\n",
       "      <td>-1.046406</td>\n",
       "      <td>-0.902963</td>\n",
       "      <td>1.003644</td>\n",
       "    </tr>\n",
       "    <tr>\n",
       "      <th>3</th>\n",
       "      <td>0.505660</td>\n",
       "      <td>0.690566</td>\n",
       "      <td>55.679245</td>\n",
       "      <td>2.128302</td>\n",
       "      <td>158019.101887</td>\n",
       "      <td>1.120755</td>\n",
       "      <td>1.101887</td>\n",
       "      <td>1.687328</td>\n",
       "      <td>2.031200</td>\n",
       "      <td>0.844039</td>\n",
       "    </tr>\n",
       "  </tbody>\n",
       "</table>\n",
       "</div>"
      ],
      "text/plain": [
       "                          Sex  Marital status        Age  Education  \\\n",
       "Segment K-means PCA                                                   \n",
       "0                    0.900289        0.965318  28.878613   1.060694   \n",
       "1                    0.027444        0.168096  35.737564   0.734134   \n",
       "2                    0.306522        0.095652  35.313043   0.760870   \n",
       "3                    0.505660        0.690566  55.679245   2.128302   \n",
       "\n",
       "                            Income  Occupation  Settlement size  Component 1  \\\n",
       "Segment K-means PCA                                                            \n",
       "0                    107551.500000    0.677746         0.440751    -1.107019   \n",
       "1                    141525.826758    1.267581         1.480274     1.372663   \n",
       "2                     93692.567391    0.252174         0.039130    -1.046406   \n",
       "3                    158019.101887    1.120755         1.101887     1.687328   \n",
       "\n",
       "                     Component 2  Component 3  \n",
       "Segment K-means PCA                            \n",
       "0                       0.703776    -0.781410  \n",
       "1                      -1.046172    -0.248046  \n",
       "2                      -0.902963     1.003644  \n",
       "3                       2.031200     0.844039  "
      ]
     },
     "execution_count": 29,
     "metadata": {},
     "output_type": "execute_result"
    }
   ],
   "source": [
    "df_segm_pca_analysis = data_segm_pca_kmeans.groupby(['Segment K-means PCA']).mean()\n",
    "#df_segm_pca_analysis"
   ]
  },
  {
   "cell_type": "code",
   "execution_count": 30,
   "id": "534cab8a",
   "metadata": {},
   "outputs": [],
   "source": [
    "df_segm_pca_analysis['N Obs'] = data_segm_pca_kmeans[['Segment K-means PCA', 'Sex']].groupby(['Segment K-means PCA']).count()\n",
    "df_segm_pca_analysis['Proportion Obs'] = df_segm_pca_analysis['N Obs'] / df_segm_pca_analysis['N Obs'].sum()"
   ]
  },
  {
   "cell_type": "code",
   "execution_count": 31,
   "id": "cd65c8ff",
   "metadata": {},
   "outputs": [],
   "source": [
    "df_segm_pca_analysis= df_segm_pca_analysis.rename(\n",
    "                        {0:'well-off',\n",
    "                         1:'fewer-opportunitiers',\n",
    "                         2:'standard',\n",
    "                         3:'career focused'})"
   ]
  },
  {
   "cell_type": "code",
   "execution_count": 32,
   "id": "5d801546",
   "metadata": {},
   "outputs": [
    {
     "data": {
      "text/html": [
       "<div>\n",
       "<style scoped>\n",
       "    .dataframe tbody tr th:only-of-type {\n",
       "        vertical-align: middle;\n",
       "    }\n",
       "\n",
       "    .dataframe tbody tr th {\n",
       "        vertical-align: top;\n",
       "    }\n",
       "\n",
       "    .dataframe thead th {\n",
       "        text-align: right;\n",
       "    }\n",
       "</style>\n",
       "<table border=\"1\" class=\"dataframe\">\n",
       "  <thead>\n",
       "    <tr style=\"text-align: right;\">\n",
       "      <th></th>\n",
       "      <th>Sex</th>\n",
       "      <th>Marital status</th>\n",
       "      <th>Age</th>\n",
       "      <th>Education</th>\n",
       "      <th>Income</th>\n",
       "      <th>Occupation</th>\n",
       "      <th>Settlement size</th>\n",
       "      <th>Component 1</th>\n",
       "      <th>Component 2</th>\n",
       "      <th>Component 3</th>\n",
       "      <th>N Obs</th>\n",
       "      <th>Proportion Obs</th>\n",
       "    </tr>\n",
       "    <tr>\n",
       "      <th>Segment K-means PCA</th>\n",
       "      <th></th>\n",
       "      <th></th>\n",
       "      <th></th>\n",
       "      <th></th>\n",
       "      <th></th>\n",
       "      <th></th>\n",
       "      <th></th>\n",
       "      <th></th>\n",
       "      <th></th>\n",
       "      <th></th>\n",
       "      <th></th>\n",
       "      <th></th>\n",
       "    </tr>\n",
       "  </thead>\n",
       "  <tbody>\n",
       "    <tr>\n",
       "      <th>well-off</th>\n",
       "      <td>0.900289</td>\n",
       "      <td>0.965318</td>\n",
       "      <td>28.878613</td>\n",
       "      <td>1.060694</td>\n",
       "      <td>107551.500000</td>\n",
       "      <td>0.677746</td>\n",
       "      <td>0.440751</td>\n",
       "      <td>-1.107019</td>\n",
       "      <td>0.703776</td>\n",
       "      <td>-0.781410</td>\n",
       "      <td>692</td>\n",
       "      <td>0.3460</td>\n",
       "    </tr>\n",
       "    <tr>\n",
       "      <th>fewer-opportunitiers</th>\n",
       "      <td>0.027444</td>\n",
       "      <td>0.168096</td>\n",
       "      <td>35.737564</td>\n",
       "      <td>0.734134</td>\n",
       "      <td>141525.826758</td>\n",
       "      <td>1.267581</td>\n",
       "      <td>1.480274</td>\n",
       "      <td>1.372663</td>\n",
       "      <td>-1.046172</td>\n",
       "      <td>-0.248046</td>\n",
       "      <td>583</td>\n",
       "      <td>0.2915</td>\n",
       "    </tr>\n",
       "    <tr>\n",
       "      <th>standard</th>\n",
       "      <td>0.306522</td>\n",
       "      <td>0.095652</td>\n",
       "      <td>35.313043</td>\n",
       "      <td>0.760870</td>\n",
       "      <td>93692.567391</td>\n",
       "      <td>0.252174</td>\n",
       "      <td>0.039130</td>\n",
       "      <td>-1.046406</td>\n",
       "      <td>-0.902963</td>\n",
       "      <td>1.003644</td>\n",
       "      <td>460</td>\n",
       "      <td>0.2300</td>\n",
       "    </tr>\n",
       "    <tr>\n",
       "      <th>career focused</th>\n",
       "      <td>0.505660</td>\n",
       "      <td>0.690566</td>\n",
       "      <td>55.679245</td>\n",
       "      <td>2.128302</td>\n",
       "      <td>158019.101887</td>\n",
       "      <td>1.120755</td>\n",
       "      <td>1.101887</td>\n",
       "      <td>1.687328</td>\n",
       "      <td>2.031200</td>\n",
       "      <td>0.844039</td>\n",
       "      <td>265</td>\n",
       "      <td>0.1325</td>\n",
       "    </tr>\n",
       "  </tbody>\n",
       "</table>\n",
       "</div>"
      ],
      "text/plain": [
       "                           Sex  Marital status        Age  Education  \\\n",
       "Segment K-means PCA                                                    \n",
       "well-off              0.900289        0.965318  28.878613   1.060694   \n",
       "fewer-opportunitiers  0.027444        0.168096  35.737564   0.734134   \n",
       "standard              0.306522        0.095652  35.313043   0.760870   \n",
       "career focused        0.505660        0.690566  55.679245   2.128302   \n",
       "\n",
       "                             Income  Occupation  Settlement size  Component 1  \\\n",
       "Segment K-means PCA                                                             \n",
       "well-off              107551.500000    0.677746         0.440751    -1.107019   \n",
       "fewer-opportunitiers  141525.826758    1.267581         1.480274     1.372663   \n",
       "standard               93692.567391    0.252174         0.039130    -1.046406   \n",
       "career focused        158019.101887    1.120755         1.101887     1.687328   \n",
       "\n",
       "                      Component 2  Component 3  N Obs  Proportion Obs  \n",
       "Segment K-means PCA                                                    \n",
       "well-off                 0.703776    -0.781410    692          0.3460  \n",
       "fewer-opportunitiers    -1.046172    -0.248046    583          0.2915  \n",
       "standard                -0.902963     1.003644    460          0.2300  \n",
       "career focused           2.031200     0.844039    265          0.1325  "
      ]
     },
     "execution_count": 32,
     "metadata": {},
     "output_type": "execute_result"
    }
   ],
   "source": [
    "df_segm_pca_analysis"
   ]
  },
  {
   "cell_type": "code",
   "execution_count": null,
   "id": "1010f6c0",
   "metadata": {},
   "outputs": [],
   "source": []
  },
  {
   "cell_type": "code",
   "execution_count": null,
   "id": "4940b5f6",
   "metadata": {},
   "outputs": [],
   "source": []
  },
  {
   "cell_type": "code",
   "execution_count": 33,
   "id": "184a18de",
   "metadata": {},
   "outputs": [],
   "source": [
    "data_segm_pca_kmeans['Labels'] = data_segm_pca_kmeans['Segment K-means PCA'].map({0:'well-off',\n",
    "                         1:'fewer-opportunitiers',\n",
    "                         2:'standard',\n",
    "                         3:'career focused'})"
   ]
  },
  {
   "cell_type": "code",
   "execution_count": 35,
   "id": "a1fbc878",
   "metadata": {},
   "outputs": [
    {
     "data": {
      "text/html": [
       "<div>\n",
       "<style scoped>\n",
       "    .dataframe tbody tr th:only-of-type {\n",
       "        vertical-align: middle;\n",
       "    }\n",
       "\n",
       "    .dataframe tbody tr th {\n",
       "        vertical-align: top;\n",
       "    }\n",
       "\n",
       "    .dataframe thead th {\n",
       "        text-align: right;\n",
       "    }\n",
       "</style>\n",
       "<table border=\"1\" class=\"dataframe\">\n",
       "  <thead>\n",
       "    <tr style=\"text-align: right;\">\n",
       "      <th></th>\n",
       "      <th>Sex</th>\n",
       "      <th>Marital status</th>\n",
       "      <th>Age</th>\n",
       "      <th>Education</th>\n",
       "      <th>Income</th>\n",
       "      <th>Occupation</th>\n",
       "      <th>Settlement size</th>\n",
       "      <th>Component 1</th>\n",
       "      <th>Component 2</th>\n",
       "      <th>Component 3</th>\n",
       "      <th>Segment K-means PCA</th>\n",
       "      <th>Labels</th>\n",
       "    </tr>\n",
       "  </thead>\n",
       "  <tbody>\n",
       "    <tr>\n",
       "      <th>0</th>\n",
       "      <td>0</td>\n",
       "      <td>0</td>\n",
       "      <td>67</td>\n",
       "      <td>2</td>\n",
       "      <td>124670</td>\n",
       "      <td>1</td>\n",
       "      <td>2</td>\n",
       "      <td>2.514746</td>\n",
       "      <td>0.834122</td>\n",
       "      <td>2.174806</td>\n",
       "      <td>3</td>\n",
       "      <td>career focused</td>\n",
       "    </tr>\n",
       "    <tr>\n",
       "      <th>1</th>\n",
       "      <td>1</td>\n",
       "      <td>1</td>\n",
       "      <td>22</td>\n",
       "      <td>1</td>\n",
       "      <td>150773</td>\n",
       "      <td>1</td>\n",
       "      <td>2</td>\n",
       "      <td>0.344935</td>\n",
       "      <td>0.598146</td>\n",
       "      <td>-2.211603</td>\n",
       "      <td>0</td>\n",
       "      <td>well-off</td>\n",
       "    </tr>\n",
       "    <tr>\n",
       "      <th>2</th>\n",
       "      <td>0</td>\n",
       "      <td>0</td>\n",
       "      <td>49</td>\n",
       "      <td>1</td>\n",
       "      <td>89210</td>\n",
       "      <td>0</td>\n",
       "      <td>0</td>\n",
       "      <td>-0.651063</td>\n",
       "      <td>-0.680093</td>\n",
       "      <td>2.280419</td>\n",
       "      <td>2</td>\n",
       "      <td>standard</td>\n",
       "    </tr>\n",
       "    <tr>\n",
       "      <th>3</th>\n",
       "      <td>0</td>\n",
       "      <td>0</td>\n",
       "      <td>45</td>\n",
       "      <td>1</td>\n",
       "      <td>171565</td>\n",
       "      <td>1</td>\n",
       "      <td>1</td>\n",
       "      <td>1.714316</td>\n",
       "      <td>-0.579927</td>\n",
       "      <td>0.730731</td>\n",
       "      <td>1</td>\n",
       "      <td>fewer-opportunitiers</td>\n",
       "    </tr>\n",
       "    <tr>\n",
       "      <th>4</th>\n",
       "      <td>0</td>\n",
       "      <td>0</td>\n",
       "      <td>53</td>\n",
       "      <td>1</td>\n",
       "      <td>149031</td>\n",
       "      <td>1</td>\n",
       "      <td>1</td>\n",
       "      <td>1.626745</td>\n",
       "      <td>-0.440496</td>\n",
       "      <td>1.244909</td>\n",
       "      <td>1</td>\n",
       "      <td>fewer-opportunitiers</td>\n",
       "    </tr>\n",
       "  </tbody>\n",
       "</table>\n",
       "</div>"
      ],
      "text/plain": [
       "   Sex  Marital status  Age  Education  Income  Occupation  Settlement size  \\\n",
       "0    0               0   67          2  124670           1                2   \n",
       "1    1               1   22          1  150773           1                2   \n",
       "2    0               0   49          1   89210           0                0   \n",
       "3    0               0   45          1  171565           1                1   \n",
       "4    0               0   53          1  149031           1                1   \n",
       "\n",
       "   Component 1  Component 2  Component 3  Segment K-means PCA  \\\n",
       "0     2.514746     0.834122     2.174806                    3   \n",
       "1     0.344935     0.598146    -2.211603                    0   \n",
       "2    -0.651063    -0.680093     2.280419                    2   \n",
       "3     1.714316    -0.579927     0.730731                    1   \n",
       "4     1.626745    -0.440496     1.244909                    1   \n",
       "\n",
       "                 Labels  \n",
       "0        career focused  \n",
       "1              well-off  \n",
       "2              standard  \n",
       "3  fewer-opportunitiers  \n",
       "4  fewer-opportunitiers  "
      ]
     },
     "execution_count": 35,
     "metadata": {},
     "output_type": "execute_result"
    }
   ],
   "source": [
    "data_segm_pca_kmeans.head()"
   ]
  },
  {
   "cell_type": "markdown",
   "id": "67735828",
   "metadata": {},
   "source": [
    "## Visualizing Segments with PCA"
   ]
  },
  {
   "cell_type": "code",
   "execution_count": 45,
   "id": "2684d0b7",
   "metadata": {},
   "outputs": [
    {
     "data": {
      "image/png": "[encoded data removed]",
      "text/plain": [
       "<Figure size 576x360 with 1 Axes>"
      ]
     },
     "metadata": {
      "needs_background": "light"
     },
     "output_type": "display_data"
    }
   ],
   "source": [
    "x_axis = data_segm_pca_kmeans['Component 1']\n",
    "y_axis = data_segm_pca_kmeans['Component 2']\n",
    "\n",
    "plt.figure(figsize=(8,5))\n",
    "sns.scatterplot(x=x_axis, y=y_axis, hue = data_segm_pca_kmeans['Labels'], palette = ['g', 'r', 'c', 'm'])\n",
    "plt.title('Segmentation K-means with PCA')\n",
    "plt.grid('on')\n",
    "plt.legend(loc='upper left')\n",
    "plt.show()"
   ]
  },
  {
   "cell_type": "code",
   "execution_count": 46,
   "id": "fa9e64d5",
   "metadata": {},
   "outputs": [],
   "source": [
    "# saving results for further usages\n",
    "\n",
    "import pickle"
   ]
  },
  {
   "cell_type": "code",
   "execution_count": null,
   "id": "7911c1ea",
   "metadata": {},
   "outputs": [],
   "source": []
  }
 ],
 "metadata": {
  "kernelspec": {
   "display_name": "Python 3 (ipykernel)",
   "language": "python",
   "name": "python3"
  },
  "language_info": {
   "codemirror_mode": {
    "name": "ipython",
    "version": 3
   },
   "file_extension": ".py",
   "mimetype": "text/x-python",
   "name": "python",
   "nbconvert_exporter": "python",
   "pygments_lexer": "ipython3",
   "version": "3.9.12"
  }
 },
 "nbformat": 4,
 "nbformat_minor": 5
}
